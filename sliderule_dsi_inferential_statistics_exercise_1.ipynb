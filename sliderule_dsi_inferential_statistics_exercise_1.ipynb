{
 "cells": [
  {
   "cell_type": "markdown",
   "metadata": {},
   "source": [
    "# What is the True Normal Human Body Temperature? \n",
    "\n",
    "#### Background\n",
    "\n",
    "The mean normal body temperature was held to be 37$^{\\circ}$C or 98.6$^{\\circ}$F for more than 120 years since it was first conceptualized and reported by Carl Wunderlich in a famous 1868 book. But, is this value statistically correct?"
   ]
  },
  {
   "cell_type": "markdown",
   "metadata": {},
   "source": [
    "<div class=\"span5 alert alert-info\">\n",
    "<h3>Exercises</h3>\n",
    "\n",
    "<p>In this exercise, you will analyze a dataset of human body temperatures and employ the concepts of hypothesis testing, confidence intervals, and statistical significance.</p>\n",
    "\n",
    "<p>Answer the following questions <b>in this notebook below and submit to your Github account</b>.</p> \n",
    "\n",
    "<ol>\n",
    "<li>  Is the distribution of body temperatures normal? \n",
    "    <ul>\n",
    "    <li> Although this is not a requirement for CLT to hold (read CLT carefully), it gives us some peace of mind that the population may also be normally distributed if we assume that this sample is representative of the population.\n",
    "    </ul>\n",
    "<li>  Is the sample size large? Are the observations independent?\n",
    "    <ul>\n",
    "    <li> Remember that this is a condition for the CLT, and hence the statistical tests we are using, to apply.\n",
    "    </ul>\n",
    "<li>  Is the true population mean really 98.6 degrees F?\n",
    "    <ul>\n",
    "    <li> Would you use a one-sample or two-sample test? Why?\n",
    "    <li> In this situation, is it appropriate to use the $t$ or $z$ statistic? \n",
    "    <li> Now try using the other test. How is the result be different? Why?\n",
    "    </ul>\n",
    "<li>  At what temperature should we consider someone's temperature to be \"abnormal\"?\n",
    "    <ul>\n",
    "    <li> Start by computing the margin of error and confidence interval.\n",
    "    </ul>\n",
    "<li>  Is there a significant difference between males and females in normal temperature?\n",
    "    <ul>\n",
    "    <li> What test did you use and why?\n",
    "    <li> Write a story with your conclusion in the context of the original problem.\n",
    "    </ul>\n",
    "</ol>\n",
    "\n",
    "You can include written notes in notebook cells using Markdown: \n",
    "   - In the control panel at the top, choose Cell > Cell Type > Markdown\n",
    "   - Markdown syntax: http://nestacms.com/docs/creating-content/markdown-cheat-sheet\n",
    "\n",
    "#### Resources\n",
    "\n",
    "+ Information and data sources: http://www.amstat.org/publications/jse/datasets/normtemp.txt, http://www.amstat.org/publications/jse/jse_data_archive.htm\n",
    "+ Markdown syntax: http://nestacms.com/docs/creating-content/markdown-cheat-sheet\n",
    "\n",
    "****\n",
    "</div>"
   ]
  },
  {
   "cell_type": "code",
   "execution_count": 23,
   "metadata": {
    "collapsed": true
   },
   "outputs": [],
   "source": [
    "import pandas as pd\n",
    "import numpy as np\n",
    "import matplotlib.pyplot as plt\n",
    "import seaborn as sns\n",
    "import scipy.stats as sp\n",
    "% matplotlib inline\n",
    "\n",
    "df = pd.read_csv('data/human_body_temperature.csv')"
   ]
  },
  {
   "cell_type": "code",
   "execution_count": 24,
   "metadata": {
    "collapsed": false
   },
   "outputs": [
    {
     "data": {
      "text/html": [
       "<div>\n",
       "<table border=\"1\" class=\"dataframe\">\n",
       "  <thead>\n",
       "    <tr style=\"text-align: right;\">\n",
       "      <th></th>\n",
       "      <th>temperature</th>\n",
       "      <th>gender</th>\n",
       "      <th>heart_rate</th>\n",
       "    </tr>\n",
       "  </thead>\n",
       "  <tbody>\n",
       "    <tr>\n",
       "      <th>0</th>\n",
       "      <td>99.3</td>\n",
       "      <td>F</td>\n",
       "      <td>68.0</td>\n",
       "    </tr>\n",
       "    <tr>\n",
       "      <th>1</th>\n",
       "      <td>98.4</td>\n",
       "      <td>F</td>\n",
       "      <td>81.0</td>\n",
       "    </tr>\n",
       "    <tr>\n",
       "      <th>2</th>\n",
       "      <td>97.8</td>\n",
       "      <td>M</td>\n",
       "      <td>73.0</td>\n",
       "    </tr>\n",
       "    <tr>\n",
       "      <th>3</th>\n",
       "      <td>99.2</td>\n",
       "      <td>F</td>\n",
       "      <td>66.0</td>\n",
       "    </tr>\n",
       "    <tr>\n",
       "      <th>4</th>\n",
       "      <td>98.0</td>\n",
       "      <td>F</td>\n",
       "      <td>73.0</td>\n",
       "    </tr>\n",
       "  </tbody>\n",
       "</table>\n",
       "</div>"
      ],
      "text/plain": [
       "   temperature gender  heart_rate\n",
       "0         99.3      F        68.0\n",
       "1         98.4      F        81.0\n",
       "2         97.8      M        73.0\n",
       "3         99.2      F        66.0\n",
       "4         98.0      F        73.0"
      ]
     },
     "execution_count": 24,
     "metadata": {},
     "output_type": "execute_result"
    }
   ],
   "source": [
    "df.head()"
   ]
  },
  {
   "cell_type": "markdown",
   "metadata": {},
   "source": [
    "# Question 1 "
   ]
  },
  {
   "cell_type": "markdown",
   "metadata": {},
   "source": [
    "Here I'm going to try to see visually, through histogram and normal approximations and finally do some tests like Skew and Kurtosis and check for numeric evidence."
   ]
  },
  {
   "cell_type": "code",
   "execution_count": 36,
   "metadata": {
    "collapsed": false
   },
   "outputs": [
    {
     "name": "stderr",
     "output_type": "stream",
     "text": [
      "F:\\Anaconda2\\lib\\site-packages\\statsmodels\\nonparametric\\kdetools.py:20: VisibleDeprecationWarning: using a non-integer number instead of an integer will result in an error in the future\n",
      "  y = X[:m/2+1] + np.r_[0,X[m/2+1:],0]*1j\n"
     ]
    },
    {
     "data": {
      "text/plain": [
       "<matplotlib.legend.Legend at 0x1e68e06b1d0>"
      ]
     },
     "execution_count": 36,
     "metadata": {},
     "output_type": "execute_result"
    },
    {
     "data": {
      "image/png": "[encoded data removed]",
      "text/plain": [
       "<matplotlib.figure.Figure at 0x1e68dfdbd30>"
      ]
     },
     "metadata": {},
     "output_type": "display_data"
    }
   ],
   "source": [
    "# First, it`s good to try some histogram to see the graph and look for the bell curve and see the number of observations\n",
    "\n",
    "plt.figure(figsize=(8,8))\n",
    "ax = sns.distplot(df.temperature, fit=sp.norm, kde_kws={\"label\":\"Distribution KDE\"}, fit_kws={\"label\":\"Normal Approximation\"})\n",
    "ax.legend(loc='best')"
   ]
  },
  {
   "cell_type": "code",
   "execution_count": 35,
   "metadata": {
    "collapsed": false
   },
   "outputs": [
    {
     "name": "stdout",
     "output_type": "stream",
     "text": [
      "Number of Observations: 130\n",
      "Skew: -0.004367976879081625\n",
      "Kurtosis: 0.7049597854114693\n",
      "Normal Test p-value: 0.258747986349\n"
     ]
    }
   ],
   "source": [
    "# Numeric Evidences\n",
    "\n",
    "skew = sp.skew(df.temperature)\n",
    "kurtosis = sp.kurtosis(df.temperature)\n",
    "normaltest = sp.normaltest(df.temperature)\n",
    "\n",
    "\n",
    "print (\"Number of Observations:\", len(df.temperature))\n",
    "print (\"Skew:\", skew)\n",
    "print (\"Kurtosis:\", kurtosis)\n",
    "print (\"Normal Test p-value:\", normaltest[1])"
   ]
  },
  {
   "cell_type": "markdown",
   "metadata": {},
   "source": [
    "Here we can see that the temperature data is not a very close normal distribution but is a interesting approximation to it. Looking to the histogram we can see that the actual distribution has a lot o similarities to the normal approximattion of it.\n",
    "\n",
    "The numeric evidence gives us a lot o hope when looking to the Skew value, that is very close to 0 (a normal distribution value). But it gets little far when we look to the kurtosis value, that took some distance from 0. As a final number we can look at the normality test (based on D’Agostino and Pearson’s), that gives us a p-value where we can not reject the null hypothesis that in this case is the normality of the distribution (concluding the normality of the sample distribution). \n",
    "\n",
    "After this steps we can at least assume that the temperature samples is approximatly normal. "
   ]
  },
  {
   "cell_type": "markdown",
   "metadata": {},
   "source": [
    "# Question 2"
   ]
  },
  {
   "cell_type": "markdown",
   "metadata": {},
   "source": [
    "Actually, through the basic knowledge in statistics we can conclude that a sample larger than 30 observations could start being a possible normal approximation. So for this we could conclude that 130 could be a decent sample size in this case.\n",
    "\n",
    "For the indepent assumption, we can assure that the data is independent, because of the fact that one's person temperature doesn't affect the other (that could happen in extreme cases, but we are going to assume here that extreme situations are not possible)."
   ]
  },
  {
   "cell_type": "markdown",
   "metadata": {},
   "source": [
    " # Question 3"
   ]
  },
  {
   "cell_type": "markdown",
   "metadata": {},
   "source": [
    "Here we are going to use a one-sample test because we are not concerned about comparing groups but, in checking for a general human, if the temperature in question is a good mean for the population.\n",
    "\n",
    "Like we saw above, we could assume that the temperature sample has a decent normal approximation and the number of observations is greater than 30, so we are allowed to use Z statistics rather than t statistics. \n",
    "\n",
    "We will test for the null hypothesis being that the population mean temperature is  98.6, and the alternative will be that the population mean temperature is different from 98.6."
   ]
  },
  {
   "cell_type": "code",
   "execution_count": 53,
   "metadata": {
    "collapsed": false
   },
   "outputs": [
    {
     "data": {
      "text/plain": [
       "5.4548232923640789"
      ]
     },
     "execution_count": 53,
     "metadata": {},
     "output_type": "execute_result"
    }
   ],
   "source": [
    "#Getting the standard deviation approximation for the population\n",
    "\n",
    "temp = df.temperature\n",
    "\n",
    "mean_sample, std_sample = temp.mean(), temp.std()\n",
    "\n",
    "std_approx = std_sample / np.sqrt(len(temp))\n",
    "\n",
    "# Checking for the Z-statistic\n",
    "\n",
    "z = (98.6 - mean_sample) / std_approx\n",
    "z"
   ]
  },
  {
   "cell_type": "code",
   "execution_count": 54,
   "metadata": {
    "collapsed": false
   },
   "outputs": [
    {
     "name": "stdout",
     "output_type": "stream",
     "text": [
      "Z Statistic:,  5.45482329236\n",
      "Threshold:,  1.95996398454\n"
     ]
    }
   ],
   "source": [
    "# Getting the threshold for a 5% significance level\n",
    "\n",
    "tr = sp.norm.ppf(.975)\n",
    "\n",
    "\n",
    "print('Z Statistic:, ', z)\n",
    "print('Threshold:, ', tr)"
   ]
  },
  {
   "cell_type": "markdown",
   "metadata": {},
   "source": [
    "We can see that we have a z value bigger than the threshold, so we can reject the null hypothesis and conclude that the 98.6 F is NOT a good mean approximation for the population.\n",
    "\n",
    "Now if we try using the t statistic:"
   ]
  },
  {
   "cell_type": "code",
   "execution_count": 55,
   "metadata": {
    "collapsed": false
   },
   "outputs": [
    {
     "name": "stdout",
     "output_type": "stream",
     "text": [
      "Z Statistic:,  5.45482329236\n",
      "Threshold:,  1.97852449146\n"
     ]
    }
   ],
   "source": [
    "# Getting the threshold for a 5% significance level\\\n",
    "\n",
    "trz = sp.t.ppf(.975, len(temp)-1)\n",
    "\n",
    "print('Z Statistic:, ', z)\n",
    "print('Threshold:, ', trz)\n"
   ]
  },
  {
   "cell_type": "markdown",
   "metadata": {},
   "source": [
    "We still have the same result"
   ]
  },
  {
   "cell_type": "markdown",
   "metadata": {},
   "source": [
    "# Question 4"
   ]
  },
  {
   "cell_type": "markdown",
   "metadata": {},
   "source": [
    "Let's get the margin of error and the confidence interval"
   ]
  },
  {
   "cell_type": "code",
   "execution_count": 60,
   "metadata": {
    "collapsed": false
   },
   "outputs": [
    {
     "name": "stdout",
     "output_type": "stream",
     "text": [
      "Margin of error:  0.126034341049\n",
      "Confidence Interval:\n",
      "(98.123196428181657, 98.375265110279898)\n"
     ]
    }
   ],
   "source": [
    "margin_error = tr * std_approx\n",
    "\n",
    "confidence_interval = (mean_sample - margin_error, mean_sample + margin_error )\n",
    "\n",
    "print('Margin of error: ', margin_error)\n",
    "print('Confidence Interval:')\n",
    "print(confidence_interval)"
   ]
  },
  {
   "cell_type": "markdown",
   "metadata": {},
   "source": [
    "We can conclud that a person with a 98.3 F or more is with a abnormal temperature than the mean, since that 95% of the values in the population approximation are is this interval above"
   ]
  },
  {
   "cell_type": "markdown",
   "metadata": {},
   "source": [
    "# Question 5"
   ]
  },
  {
   "cell_type": "markdown",
   "metadata": {},
   "source": [
    "Here I will use the two-sample teste because I'm going to compare two means.\n",
    "\n",
    "Lets get the two separate dataset and their parameters:"
   ]
  },
  {
   "cell_type": "code",
   "execution_count": 66,
   "metadata": {
    "collapsed": false
   },
   "outputs": [
    {
     "data": {
      "text/plain": [
       "-0.289230769230727"
      ]
     },
     "execution_count": 66,
     "metadata": {},
     "output_type": "execute_result"
    }
   ],
   "source": [
    "male = df[df.gender == 'M'].temperature\n",
    "female = df[df.gender == 'F'].temperature\n",
    "\n",
    "male_mean, male_std = male.mean(), male.std()\n",
    "female_mean, female_std = female.mean(), female.std()\n",
    "\n",
    "dif = male_mean - female_mean\n",
    "dif"
   ]
  },
  {
   "cell_type": "markdown",
   "metadata": {},
   "source": [
    "Now we are going to test if the the difference is significant in the population.\n",
    "\n",
    "Null Hypothesis : There is no difference - dif = male_mean - female_mean = 0 ///\n",
    "Alternative Hypothesis : There is a difference -  dif = male_mean - female_mean <> 0"
   ]
  },
  {
   "cell_type": "code",
   "execution_count": 73,
   "metadata": {
    "collapsed": false
   },
   "outputs": [
    {
     "name": "stdout",
     "output_type": "stream",
     "text": [
      "The means absolute difference :  0.289230769231\n",
      "The threshold difference for 95% significance :  0.248041184924\n"
     ]
    }
   ],
   "source": [
    "# Getting the threshold for the 5% of significance\n",
    "\n",
    "dtr = sp.norm.ppf(.975)\n",
    "\n",
    "# Getting the standard error for the difference distribution\n",
    "\n",
    "dstd = np.sqrt(((male_std**2)/len(male)) + ((female_std**2)/len(female)) )\n",
    "\n",
    "score = np.abs(dtr) * dstd\n",
    "\n",
    "print(\"The means absolute difference : \" , np.abs(dif))\n",
    "print(\"The threshold difference for 95% significance : \" , score)\n",
    "\n",
    "\n"
   ]
  },
  {
   "cell_type": "markdown",
   "metadata": {},
   "source": [
    "We can with this reject the null hypothesis and conclude that there is a signifcant difference in means when comparing men and women."
   ]
  },
  {
   "cell_type": "markdown",
   "metadata": {},
   "source": [
    "# Conclusion"
   ]
  },
  {
   "cell_type": "markdown",
   "metadata": {},
   "source": [
    "With this dataset we could see that the  Carl Wunderlich 120 years assumption is not statistically significant looking at this sample we had. \n",
    "\n",
    "\n",
    "Another interesting insight was that we discovered that there is a significant difference in men and women temperatures which could imply in some cation when comparing threshold between genders."
   ]
  },
  {
   "cell_type": "code",
   "execution_count": null,
   "metadata": {
    "collapsed": true
   },
   "outputs": [],
   "source": []
  },
  {
   "cell_type": "code",
   "execution_count": null,
   "metadata": {
    "collapsed": true
   },
   "outputs": [],
   "source": []
  }
 ],
 "metadata": {
  "kernelspec": {
   "display_name": "Python 3",
   "language": "python",
   "name": "python3"
  },
  "language_info": {
   "codemirror_mode": {
    "name": "ipython",
    "version": 3
   },
   "file_extension": ".py",
   "mimetype": "text/x-python",
   "name": "python",
   "nbconvert_exporter": "python",
   "pygments_lexer": "ipython3",
   "version": "3.6.0"
  }
 },
 "nbformat": 4,
 "nbformat_minor": 0
}
